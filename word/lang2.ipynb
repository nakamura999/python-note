{
 "cells": [
  {
   "cell_type": "markdown",
   "metadata": {},
   "source": [
    "### 利用されている文字が同じ言語化判定"
   ]
  },
  {
   "cell_type": "code",
   "execution_count": 2,
   "metadata": {},
   "outputs": [
    {
     "name": "stdout",
     "output_type": "stream",
     "text": [
      "['en' 'de' 'es']\n",
      "正解率 =  1.0\n"
     ]
    }
   ],
   "source": [
    "import numpy as np\n",
    "from sklearn.naive_bayes import GaussianNB\n",
    "from sklearn.metrics import accuracy_score\n",
    "import glob\n",
    "\n",
    "# Unicodeのコードポイント頻度測定\n",
    "def count_codePoint(str):\n",
    "    # Unicodeのコードポイントをアドレスとする配列を用意\n",
    "    counter = np.zeros(65535)\n",
    "    \n",
    "    for i in range(len(str)):\n",
    "        # 各文字をUnicodeのコードポイントに変換\n",
    "        code_point = ord(str[i])\n",
    "        if code_point > 65535 :\n",
    "            continue\n",
    "        # 対応するアドレスの出現回数をインクリメント\n",
    "        counter[code_point] += 1\n",
    "        \n",
    "    # 各要素を文字数で割って正規化\n",
    "    counter = counter/len(str)\n",
    "    return counter\n",
    "\n",
    "# 学習用のデータを用意 データの初期化後、trainフォルダは配下のテキストファイルの一覧を取得。 glob()ファイル一覧取得に利用\n",
    "index = 0\n",
    "x_train = []\n",
    "y_train = []\n",
    "for file in glob.glob('./train/*.txt'):\n",
    "    # 言語情報を取得し、ラベルに設定　例　./train/de_dog.txt  「de」のdは8文字目(0番地から数える為)から１０文字めを指定\n",
    "    y_train.append(file[8:10])\n",
    "    \n",
    "    # ファイル内の文字列を連結後、Unicodeのコードポイントの頻度を測定（ベクトル化）し、入力データに設定\n",
    "    file_str = ''\n",
    "    for line in open(file, 'r'):\n",
    "        file_str = file_str + line\n",
    "    x_train.append(count_codePoint(file_str))\n",
    "    \n",
    "# 学習する\n",
    "clf = GaussianNB()\n",
    "clf.fit(x_train, y_train)\n",
    "\n",
    "# 評価データの準備\n",
    "index = 0\n",
    "x_test = []\n",
    "y_test = []\n",
    "for file in glob.glob('./test/*.txt'):\n",
    "    # 言語情報を取得し、ラベルに設定\n",
    "    y_test.append(file[7:9])\n",
    "    \n",
    "    # ファイル内の文字列を連結後、Unicodeのコードポイントの頻度を測定、入力データに設定\n",
    "    file_str = ''\n",
    "    for line in open(file, 'r'):\n",
    "        file_str = file_str + line\n",
    "    x_test.append(count_codePoint(file_str))\n",
    "    \n",
    "# 評価する predict()予測\n",
    "y_pred = clf.predict(x_test)\n",
    "print(y_pred)\n",
    "print('正解率 = ', accuracy_score(y_test, y_pred))"
   ]
  },
  {
   "cell_type": "code",
   "execution_count": null,
   "metadata": {},
   "outputs": [],
   "source": []
  }
 ],
 "metadata": {
  "kernelspec": {
   "display_name": "Python 3",
   "language": "python",
   "name": "python3"
  },
  "language_info": {
   "codemirror_mode": {
    "name": "ipython",
    "version": 3
   },
   "file_extension": ".py",
   "mimetype": "text/x-python",
   "name": "python",
   "nbconvert_exporter": "python",
   "pygments_lexer": "ipython3",
   "version": "3.7.6"
  }
 },
 "nbformat": 4,
 "nbformat_minor": 4
}
