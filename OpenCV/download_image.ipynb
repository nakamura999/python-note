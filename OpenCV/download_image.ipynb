{
 "cells": [
  {
   "cell_type": "markdown",
   "metadata": {},
   "source": [
    "### 画像を読み込み"
   ]
  },
  {
   "cell_type": "code",
   "execution_count": 2,
   "metadata": {},
   "outputs": [
    {
     "name": "stdout",
     "output_type": "stream",
     "text": [
      "[[[255 255 255]\n",
      "  [255 255 255]\n",
      "  [255 255 255]\n",
      "  ...\n",
      "  [255 255 255]\n",
      "  [255 255 255]\n",
      "  [255 255 255]]\n",
      "\n",
      " [[255 255 255]\n",
      "  [255 255 255]\n",
      "  [255 255 255]\n",
      "  ...\n",
      "  [255 255 255]\n",
      "  [255 255 255]\n",
      "  [255 255 255]]\n",
      "\n",
      " [[255 255 255]\n",
      "  [255 255 255]\n",
      "  [255 255 255]\n",
      "  ...\n",
      "  [255 255 255]\n",
      "  [255 255 255]\n",
      "  [255 255 255]]\n",
      "\n",
      " ...\n",
      "\n",
      " [[248 245 241]\n",
      "  [248 245 241]\n",
      "  [248 245 241]\n",
      "  ...\n",
      "  [ 39  34  33]\n",
      "  [ 39  34  33]\n",
      "  [ 39  34  33]]\n",
      "\n",
      " [[248 245 241]\n",
      "  [248 245 241]\n",
      "  [248 245 241]\n",
      "  ...\n",
      "  [ 39  34  33]\n",
      "  [ 39  34  33]\n",
      "  [ 39  34  33]]\n",
      "\n",
      " [[248 245 241]\n",
      "  [248 245 241]\n",
      "  [248 245 241]\n",
      "  ...\n",
      "  [ 39  34  33]\n",
      "  [ 39  34  33]\n",
      "  [ 39  34  33]]]\n"
     ]
    }
   ],
   "source": [
    "# 画像のダウンロード  import urllib.request as req Webにある画像をローカルにダウンロードするモジュール\n",
    "import urllib.request as req\n",
    "url = \"https://images.unsplash.com/photo-1499557354967-2b2d8910bcca?ixlib=rb-1.2.1&ixid=eyJhcHBfaWQiOjEyMDd9&auto=format&fit=crop&w=2735&q=80\"\n",
    "req.urlretrieve(url, \"test.png\")\n",
    "\n",
    "# OpenCVで読み込み\n",
    "import cv2\n",
    "img = cv2.imread(\"test.png\")\n",
    "print(img)"
   ]
  },
  {
   "cell_type": "code",
   "execution_count": null,
   "metadata": {},
   "outputs": [],
   "source": []
  }
 ],
 "metadata": {
  "kernelspec": {
   "display_name": "Python 3",
   "language": "python",
   "name": "python3"
  },
  "language_info": {
   "codemirror_mode": {
    "name": "ipython",
    "version": 3
   },
   "file_extension": ".py",
   "mimetype": "text/x-python",
   "name": "python",
   "nbconvert_exporter": "python",
   "pygments_lexer": "ipython3",
   "version": "3.7.6"
  }
 },
 "nbformat": 4,
 "nbformat_minor": 4
}
