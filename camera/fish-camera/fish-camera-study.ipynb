{
 "cells": [
  {
   "cell_type": "markdown",
   "metadata": {},
   "source": [
    "### 機械学習で熱帯魚を学習（fish-camera-study.pyの場合、ターミナルで実行）"
   ]
  },
  {
   "cell_type": "code",
   "execution_count": 2,
   "metadata": {},
   "outputs": [
    {
     "name": "stdout",
     "output_type": "stream",
     "text": [
      "0.8962962962962963\n"
     ]
    },
    {
     "data": {
      "text/plain": [
       "['fish.pkl']"
      ]
     },
     "execution_count": 2,
     "metadata": {},
     "output_type": "execute_result"
    }
   ],
   "source": [
    "# 熱帯の魚の学習\n",
    "\n",
    "import cv2\n",
    "import os, glob\n",
    "from sklearn.model_selection import train_test_split\n",
    "from sklearn import datasets, metrics\n",
    "from sklearn.ensemble import RandomForestClassifier\n",
    "from sklearn.metrics import accuracy_score\n",
    "import joblib\n",
    "\n",
    "# 画像の学習サイズやパスを指定\n",
    "image_size = (64, 32)\n",
    "path = os.path.dirname(os.path.abspath('__file__'))\n",
    "path_fish = path + '/fish'\n",
    "path_nofish = path + '/nofish'\n",
    "x = [] # 画像データ\n",
    "y = [] # ラベルデータ\n",
    "\n",
    "# 画像データを読み込んで配列に追加\n",
    "def read_dir(path, label):\n",
    "\tfiles = glob.glob(path + '/*.jpg')\n",
    "\tfor f in files:\n",
    "\t\timg = cv2.imread(f)\n",
    "\t\timg = cv2.resize(img, image_size)\n",
    "\t\timg_data = img.reshape(-1, )  # 一次元に展開\n",
    "\t\tx.append(img_data)\n",
    "\t\ty.append(label)\n",
    "\n",
    "# 画像データを読み込む\n",
    "read_dir(path_nofish, 0)\n",
    "read_dir(path_fish, 1)\n",
    "\n",
    "# データを学習用とテスト用に分割\n",
    "x_train, x_test, y_train, y_test = train_test_split(x, y, test_size=0.2)\n",
    "\n",
    "# データを学習する\n",
    "clf = RandomForestClassifier()\n",
    "clf.fit(x_train, y_train)\n",
    "\n",
    "# 精度の確認\n",
    "y_pred = clf.predict(x_test)\n",
    "print(accuracy_score(y_test, y_pred))\n",
    "\n",
    "# データを保存\n",
    "joblib.dump(clf, 'fish.pkl')\n"
   ]
  }
 ],
 "metadata": {
  "kernelspec": {
   "display_name": "Python 3",
   "language": "python",
   "name": "python3"
  },
  "language_info": {
   "codemirror_mode": {
    "name": "ipython",
    "version": 3
   },
   "file_extension": ".py",
   "mimetype": "text/x-python",
   "name": "python",
   "nbconvert_exporter": "python",
   "pygments_lexer": "ipython3",
   "version": "3.7.6"
  }
 },
 "nbformat": 4,
 "nbformat_minor": 4
}
