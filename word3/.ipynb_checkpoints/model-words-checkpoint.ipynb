{
 "cells": [
  {
   "cell_type": "markdown",
   "metadata": {},
   "source": [
    "### 作者を分類"
   ]
  },
  {
   "cell_type": "code",
   "execution_count": 6,
   "metadata": {},
   "outputs": [
    {
     "name": "stdout",
     "output_type": "stream",
     "text": [
      "--- 「宮沢 賢治:よだかの星」と似た作品は？ ---\n",
      "[('夏目 漱石:草枕', 0.9991685152053833), ('夏目 漱石:虞美人草', 0.9991037845611572), ('ポー エドガー・アラン:群集の人', 0.9988319873809814)]\n",
      "\n",
      "--- 「夏目 漱石:一夜」と似た作品は？ ---\n",
      "[('ポー エドガー・アラン:群集の人', 0.9959757328033447), ('夏目 漱石:虞美人草', 0.99506014585495), ('夏目 漱石:草枕', 0.9930856227874756)]\n",
      "\n",
      "--- 「ポー エドガー・アラン:マリー・ロジェエの怪事件」と似た作品は？ ---\n",
      "[('ポー エドガー・アラン:ウィリアム・ウィルスン', 0.9944115877151489), ('ポー エドガー・アラン:落穴と振子', 0.9936679601669312), ('ポー エドガー・アラン:沈黙', 0.9926974773406982)]\n",
      "\n",
      "--- 「紫式部:源氏物語 06 末摘花」と似た作品は？ ---\n",
      "[('紫式部:源氏物語 04 夕顔', 0.9999306797981262), ('宮澤 賢治:セロ弾きのゴーシュ', 0.9999257326126099), ('紫式部:源氏物語 01 桐壺', 0.9998944997787476)]\n",
      "\n"
     ]
    }
   ],
   "source": [
    "import urllib.request as req\n",
    "import zipfile\n",
    "import os.path\n",
    "import MeCab\n",
    "from gensim import models\n",
    "\n",
    "# MeCabの初期化\n",
    "mecab = MeCab.Tagger()\n",
    "mecab.parse('')\n",
    "\n",
    "# 保存したDoc2Vec学習モデルを読み込む\n",
    "model = models.Doc2Vec.load('aozora.model')\n",
    "\n",
    "# 分類用のZipファイルを開き、中の文書を取得する\n",
    "def read_book(url, zipname):\n",
    "    if not os.path.exists(zipname):\n",
    "        req.urlretrieve(url, zipname)\n",
    "        \n",
    "    with zipfile.ZipFile(zipname,'r') as zf:\n",
    "        for filename in zf.namelist():\n",
    "            with zf.open(filename,'r') as f:\n",
    "                return f.read().decode('shift-jis')\n",
    "            \n",
    "# 引数のテキストを分かち書きして配列にする\n",
    "def split_words(text):\n",
    "    node = mecab.parseToNode(text)\n",
    "    wakati_words = []\n",
    "    while node is not None:\n",
    "        hinshi = node.feature.split(',')[0]\n",
    "        if hinshi in ['名詞']:\n",
    "            wakati_words.append(node.surface)\n",
    "        elif hinshi in ['動詞', '形容詞']:\n",
    "            wakati_words.append(node.feature.split(',')[6])\n",
    "        node = node.next\n",
    "    return wakati_words\n",
    "\n",
    "# 引数のタイトル、URLの作品を分類する\n",
    "def similar(title, url):\n",
    "    zipname = url.split('/')[-1]\n",
    "    \n",
    "    words = read_book(url, zipname)\n",
    "    wakati_words = split_words(words)\n",
    "    vector = model.infer_vector(wakati_words)\n",
    "    print(\"--- 「\" + title + '」と似た作品は？ ---')\n",
    "    print(model.docvecs.most_similar([vector],topn=3))\n",
    "    print('')\n",
    "    \n",
    "# 各作家の作品を一つずつ分類\n",
    "similar('宮沢 賢治:よだかの星',\n",
    "        \"https://www.aozora.gr.jp/cards/000081/files/473_ruby_467.zip\")\n",
    "\n",
    "similar('夏目 漱石:一夜',\n",
    "        \"https://www.aozora.gr.jp/cards/000148/files/1086_ruby_5742.zip\")\n",
    "\n",
    "similar('ポー エドガー・アラン:マリー・ロジェエの怪事件',\n",
    "        \"https://www.aozora.gr.jp/cards/000094/files/4261_ruby_54182.zip\")\n",
    "\n",
    "similar('紫式部:源氏物語 06 末摘花',\n",
    "        \"https://www.aozora.gr.jp/cards/000052/files/5021_ruby_11106.zip\")"
   ]
  },
  {
   "cell_type": "code",
   "execution_count": null,
   "metadata": {},
   "outputs": [],
   "source": []
  }
 ],
 "metadata": {
  "kernelspec": {
   "display_name": "Python 3",
   "language": "python",
   "name": "python3"
  },
  "language_info": {
   "codemirror_mode": {
    "name": "ipython",
    "version": 3
   },
   "file_extension": ".py",
   "mimetype": "text/x-python",
   "name": "python",
   "nbconvert_exporter": "python",
   "pygments_lexer": "ipython3",
   "version": "3.7.6"
  }
 },
 "nbformat": 4,
 "nbformat_minor": 4
}
