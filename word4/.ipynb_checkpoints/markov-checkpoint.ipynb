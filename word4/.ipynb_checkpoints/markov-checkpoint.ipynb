{
 "cells": [
  {
   "cell_type": "markdown",
   "metadata": {},
   "source": [
    "### マルコフ連鎖を利用して、自動作文"
   ]
  },
  {
   "cell_type": "code",
   "execution_count": 3,
   "metadata": {},
   "outputs": [
    {
     "name": "stdin",
     "output_type": "stream",
     "text": [
      "You ->  もしもし\n"
     ]
    },
    {
     "name": "stdout",
     "output_type": "stream",
     "text": [
      "Bot -> もしもし\n"
     ]
    },
    {
     "name": "stdin",
     "output_type": "stream",
     "text": [
      "You ->  ぶどうとリンゴどちらが好きですか？\n"
     ]
    },
    {
     "name": "stdout",
     "output_type": "stream",
     "text": [
      "Bot -> ぶどうとリンゴどちらが好きですか？\n"
     ]
    },
    {
     "name": "stdin",
     "output_type": "stream",
     "text": [
      "You ->  ぶどうが好きです。\n"
     ]
    },
    {
     "name": "stdout",
     "output_type": "stream",
     "text": [
      "Bot -> ぶどうが好きですか？\n"
     ]
    },
    {
     "name": "stdin",
     "output_type": "stream",
     "text": [
      "You ->  はい\n"
     ]
    },
    {
     "name": "stdout",
     "output_type": "stream",
     "text": [
      "Bot -> はい\n"
     ]
    },
    {
     "name": "stdin",
     "output_type": "stream",
     "text": [
      "You ->  ぶどうとリンゴどちらが好きですか？\n"
     ]
    },
    {
     "name": "stdout",
     "output_type": "stream",
     "text": [
      "Bot -> ぶどうが好きです。\n"
     ]
    },
    {
     "name": "stdin",
     "output_type": "stream",
     "text": [
      "You ->  リンゴは好きですか？\n"
     ]
    },
    {
     "name": "stdout",
     "output_type": "stream",
     "text": [
      "Bot -> リンゴどちらが好きです。\n"
     ]
    },
    {
     "name": "stdin",
     "output_type": "stream",
     "text": [
      "You ->  リンゴも好きです。\n"
     ]
    },
    {
     "name": "stdout",
     "output_type": "stream",
     "text": [
      "Bot -> リンゴはどちらが好きですか？\n"
     ]
    },
    {
     "name": "stdin",
     "output_type": "stream",
     "text": [
      "You ->  リンゴが好きです。\n"
     ]
    },
    {
     "name": "stdout",
     "output_type": "stream",
     "text": [
      "Bot -> リンゴは好きです。\n"
     ]
    },
    {
     "name": "stdin",
     "output_type": "stream",
     "text": [
      "You ->  ぶどうとリンゴどちらが好きですか？\n"
     ]
    },
    {
     "name": "stdout",
     "output_type": "stream",
     "text": [
      "Bot -> ぶどうが好きです。\n"
     ]
    },
    {
     "name": "stdin",
     "output_type": "stream",
     "text": [
      "You ->  リンゴは好きですか？\n"
     ]
    },
    {
     "name": "stdout",
     "output_type": "stream",
     "text": [
      "Bot -> リンゴが好きですか?\n"
     ]
    },
    {
     "name": "stdin",
     "output_type": "stream",
     "text": [
      "You ->  はい\n"
     ]
    },
    {
     "name": "stdout",
     "output_type": "stream",
     "text": [
      "Bot -> はい\n"
     ]
    },
    {
     "name": "stdin",
     "output_type": "stream",
     "text": [
      "You ->  リンゴは好きですか？\n"
     ]
    },
    {
     "name": "stdout",
     "output_type": "stream",
     "text": [
      "Bot -> リンゴが好きです。\n"
     ]
    },
    {
     "name": "stdin",
     "output_type": "stream",
     "text": [
      "You ->  さようなら\n"
     ]
    },
    {
     "name": "stdout",
     "output_type": "stream",
     "text": [
      "Bot -> さようなら\n"
     ]
    }
   ],
   "source": [
    "import MeCab\n",
    "import os,json,random\n",
    "\n",
    "dict_file = \"markov_dict.json\"\n",
    "dic = {}\n",
    "\n",
    "# 辞書への登録\n",
    "def regist_dic(wordlist):\n",
    "    global dic\n",
    "    w1 = \"\"\n",
    "    w2 = \"\"\n",
    "    \n",
    "    # 要素が3未満の場合は、何もしない\n",
    "    if len(wordlist) < 3 : return\n",
    "    \n",
    "    for w in wordlist :\n",
    "        word = w[0]\n",
    "        if word == \"\" or  word == \"\\r\\n\" or word == \"\\n\" : continue\n",
    "        # 辞書に単語を設定\n",
    "        if w1 and w2 :\n",
    "            set_dic(dic,w1, w2, word)\n",
    "        # 文末を表す語のの場合、連鎖をクリアする\n",
    "        if word == \"。\" or word == \"?\" or  word == \"？\" :\n",
    "            w1 = \"\"\n",
    "            w2 = \"\"\n",
    "            continue\n",
    "        # 次の前後関係を登録するために、単語をスライド\n",
    "        w1, w2 = w2, word\n",
    "    \n",
    "    # 辞書を保存\n",
    "    json.dump(dic, open(dict_file,\"w\", encoding=\"utf-8\"))\n",
    "\n",
    "# 辞書に単語を設定\n",
    "def set_dic(dic, w1, w2, w3):\n",
    "    # 新しい単語の場合は、新しい辞書オブジェクトを作成\n",
    "    if w1 not in dic : dic[w1] = {}\n",
    "    if w2 not in dic[w1] : dic[w1][w2] = {}\n",
    "    if w3 not in dic[w1][w2]: dic[w1][w2][w3] = 0\n",
    "    # 単語の出現数をインクリメントする\n",
    "    dic[w1][w2][w3] += 1\n",
    "\n",
    "# 応答文の作成\n",
    "def make_response(word):\n",
    "    res = []\n",
    "    \n",
    "    # 「名詞」/「形容詞」/「動詞」は、文章の意図を示していることが多いと想定し、始点の単語とする。\n",
    "    w1 = word\n",
    "    res.append(w1)\n",
    "    w2 = word_choice(dic[w1])\n",
    "    res.append(w2)\n",
    "    while True:\n",
    "        # w1,w2の組み合わせから予想される、単語を選択\n",
    "        if w1 in dic and w2 in dic[w1] : w3 = word_choice(dic[w1][w2])\n",
    "        else : w3 = \"\"\n",
    "        res.append(w3)\n",
    "        # 文末を表す語の場合、作文を終了\n",
    "        if w3 == \"。\" or w3 == \"?\" or  w3 == \"？\"  or w3 == \"\" :  break\n",
    "        # 次の単語を選択するために、単語をスライド\n",
    "        w1, w2 = w2, w3\n",
    "    return \"\".join(res)\n",
    "        \n",
    "def word_choice(candidate):\n",
    "    keys = candidate.keys()\n",
    "    return random.choice(list(keys))\n",
    "\n",
    "# メイン処理\n",
    "\n",
    "# 辞書がすでに存在する場合は、最初に読み込む\n",
    "if os.path.exists(dict_file):\n",
    "        dic = json.load(open(dict_file,\"r\"))\n",
    "        \n",
    "while True:\n",
    "    # 標準入力から入力を受け付け、「さようなら」が入力されるまで続ける\n",
    "    text = input(\"You -> \")\n",
    "    if text == \"\" or text == \"さようなら\" : \n",
    "        print(\"Bot -> さようなら\")\n",
    "        break\n",
    "\n",
    "    # 文章整形\n",
    "    if text[-1] != \"。\" and text[-1] != \"?\" and text[-1] != \"？\" : text +=\"。\"\n",
    "    \n",
    "    # 形態素解析\n",
    "    tagger = MeCab.Tagger(\"-d /usr/local/lib/mecab/dic/mecab-ipadic-neologd\")\n",
    "    tagger.parse(\"\") \n",
    "    node =  tagger.parseToNode(text)\n",
    "    \n",
    "    # 形態素解析の結果から、単語と品詞情報を抽出\n",
    "    wordlist = []\n",
    "    while node is not None:\n",
    "        hinshi = node.feature.split(\",\")[0]\n",
    "        if  hinshi not  in [\"BOS/EOS\"]:\n",
    "            wordlist.append([node.surface,hinshi])\n",
    "        node = node.next\n",
    "    \n",
    "    # マルコフ連鎖の辞書に登録\n",
    "    regist_dic(wordlist)\n",
    "\n",
    "    # 応答文の作成\n",
    "    for w in wordlist:\n",
    "        word = w[0]\n",
    "        hinshi = w[1]\n",
    "        # 品詞が「感動詞」の場合は、単語をそのまま返す\n",
    "        if hinshi in [ \"感動詞\"] : \n",
    "            print(\"Bot -> \" + word)\n",
    "            break\n",
    "        # 品詞が「名詞」「形容詞」「動詞」の場合で、かつ、辞書に単語が存在する場合は、作文して返す\n",
    "        elif (hinshi in [ \"名詞\" ,\"形容詞\",\"動詞\"]) and (word in dic):\n",
    "            print(\"Bot -> \" + make_response(word))\n",
    "            break"
   ]
  },
  {
   "cell_type": "code",
   "execution_count": null,
   "metadata": {},
   "outputs": [],
   "source": []
  }
 ],
 "metadata": {
  "kernelspec": {
   "display_name": "Python 3",
   "language": "python",
   "name": "python3"
  },
  "language_info": {
   "codemirror_mode": {
    "name": "ipython",
    "version": 3
   },
   "file_extension": ".py",
   "mimetype": "text/x-python",
   "name": "python",
   "nbconvert_exporter": "python",
   "pygments_lexer": "ipython3",
   "version": "3.7.6"
  }
 },
 "nbformat": 4,
 "nbformat_minor": 4
}
