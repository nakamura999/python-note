{
 "cells": [
  {
   "cell_type": "markdown",
   "metadata": {},
   "source": [
    "###  作成したテキストをスパム判定"
   ]
  },
  {
   "cell_type": "code",
   "execution_count": 7,
   "metadata": {},
   "outputs": [
    {
     "name": "stdout",
     "output_type": "stream",
     "text": [
      "- 結果= OK\n",
      "- 結果= SPAM\n"
     ]
    }
   ],
   "source": [
    "import pickle\n",
    "import MeCab\n",
    "import numpy as np\n",
    "from sklearn.naive_bayes import GaussianNB\n",
    "\n",
    "# テストするテキスト\n",
    "test_text1 = \"\"\"\n",
    "IPoneの調子があまり良くない。\n",
    "修理に出すので、しばらく使えない。\n",
    "\"\"\"\n",
    "\n",
    "test_text2 = \"\"\"\n",
    "億万長者になる方法を教えます。\n",
    "すぐに以下のアドレスに返信してください。\n",
    "\"\"\"\n",
    "\n",
    "# ファイル名\n",
    "data_file = \"./ok-spam.pickle\"\n",
    "model_file = \"./ok-spam-model.pickle\"\n",
    "label_names = [\"OK\", \"SPAM\"]\n",
    "\n",
    "# 単辞書を読み出す\n",
    "data = pickle.load(open(data_file, \"rb\"))\n",
    "word_dic = data[2]\n",
    "\n",
    "# MeCabの準備\n",
    "tagger = MeCab.Tagger()\n",
    "# 学習済モデルを呼び出す\n",
    "model = pickle.load(open(model_file, \"rb\"))\n",
    "\n",
    "# テキストがスパムかどうか判定する\n",
    "def check_spam(text):\n",
    "    # テキストを単語IDのリストに変換し、単語の頻出頻度を調べる\n",
    "    zw = np.zeros(word_dic[\"__id\"])\n",
    "    count = 0\n",
    "    s = tagger.parse(text)\n",
    "    # 単語毎の回数を加算\n",
    "    for line in s.split(\"\\n\"):\n",
    "        if line == \"EOS\": break\n",
    "        params = line.split(\"\\t\")[1].split(\",\")\n",
    "        org = params[6] # 単語の原型\n",
    "        if org in word_dic:\n",
    "            id = word_dic[org]\n",
    "            zw[id] += 1\n",
    "            count += 1\n",
    "    zw = zw / count\n",
    "    # 予測\n",
    "    pre = model.predict([zw])[0]\n",
    "    print(\"- 結果=\", label_names[pre])\n",
    "    \n",
    "if __name__ == \"__main__\":\n",
    "    check_spam(test_text1)\n",
    "    check_spam(test_text2)"
   ]
  },
  {
   "cell_type": "code",
   "execution_count": null,
   "metadata": {},
   "outputs": [],
   "source": []
  }
 ],
 "metadata": {
  "kernelspec": {
   "display_name": "Python 3",
   "language": "python",
   "name": "python3"
  },
  "language_info": {
   "codemirror_mode": {
    "name": "ipython",
    "version": 3
   },
   "file_extension": ".py",
   "mimetype": "text/x-python",
   "name": "python",
   "nbconvert_exporter": "python",
   "pygments_lexer": "ipython3",
   "version": "3.7.6"
  }
 },
 "nbformat": 4,
 "nbformat_minor": 4
}
