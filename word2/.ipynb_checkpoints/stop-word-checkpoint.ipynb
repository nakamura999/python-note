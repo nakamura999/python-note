{
 "cells": [
  {
   "cell_type": "code",
   "execution_count": 2,
   "metadata": {},
   "outputs": [
    {
     "name": "stdout",
     "output_type": "stream",
     "text": [
      "['メイ', '恋ダンス', '踊る', 'いる']\n"
     ]
    }
   ],
   "source": [
    "import MeCab\n",
    "tagger = MeCab.Tagger('-d /usr/local/lib/mecab/dic/mecab-ipadic-neologd')\n",
    "tagger.parse('')\n",
    "\n",
    "# 形態素解析結果をリストで表示 parseToNode() MeCab.Nodeクラスオブジェクトを返す\n",
    "node = tagger.parseToNode('メイが恋ダンスを踊っている')\n",
    "\n",
    "result = []\n",
    "while node is not None:\n",
    "    # 品詞情報取得\n",
    "    hinshi = node.feature.split(',')[0]\n",
    "    if hinshi in ['名詞']:\n",
    "        # 表層系の取得\n",
    "        result.append(node.surface)\n",
    "    elif hinshi in ['動詞', '形容詞']:\n",
    "        # 形態素情報から原型情報を取得\n",
    "        result.append(node.feature.split(',')[6])\n",
    "    node = node.next\n",
    "    \n",
    "print(result)"
   ]
  },
  {
   "cell_type": "code",
   "execution_count": null,
   "metadata": {},
   "outputs": [],
   "source": []
  }
 ],
 "metadata": {
  "kernelspec": {
   "display_name": "Python 3",
   "language": "python",
   "name": "python3"
  },
  "language_info": {
   "codemirror_mode": {
    "name": "ipython",
    "version": 3
   },
   "file_extension": ".py",
   "mimetype": "text/x-python",
   "name": "python",
   "nbconvert_exporter": "python",
   "pygments_lexer": "ipython3",
   "version": "3.7.6"
  }
 },
 "nbformat": 4,
 "nbformat_minor": 4
}
