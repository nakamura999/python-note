{
 "cells": [
  {
   "cell_type": "code",
   "execution_count": 1,
   "metadata": {},
   "outputs": [
    {
     "name": "stdout",
     "output_type": "stream",
     "text": [
      "my2.png = 2\n",
      "my4.png = 1\n"
     ]
    }
   ],
   "source": [
    "import cv2\n",
    "import joblib\n",
    "\n",
    "def predict_digit(filename):\n",
    "    # 学習済データを読み込む\n",
    "    clf = joblib.load(\"digits.pkl\")\n",
    "    # 画像ファイル読み込み\n",
    "    my_img = cv2.imread(filename)\n",
    "    # 画像データを学習済データ似合わせる\n",
    "    my_img = cv2.cvtColor(my_img, cv2.COLOR_BGR2GRAY)\n",
    "    my_img = cv2.resize(my_img, (8, 8))\n",
    "    my_img = 15 - my_img // 16 # 白黒は反転する\n",
    "    # 二次元を一次元に変換\n",
    "    my_img = my_img.reshape((-1, 64))\n",
    "    # データを予測する\n",
    "    res = clf.predict(my_img)\n",
    "    return res[0]\n",
    "\n",
    "# 画像ファイルを指定して実行\n",
    "n = predict_digit(\"my2.png\")\n",
    "print(\"my2.png = \" + str(n))\n",
    "n = predict_digit(\"my4.png\")\n",
    "print(\"my4.png = \" + str(n))"
   ]
  },
  {
   "cell_type": "code",
   "execution_count": null,
   "metadata": {},
   "outputs": [],
   "source": []
  }
 ],
 "metadata": {
  "kernelspec": {
   "display_name": "Python 3",
   "language": "python",
   "name": "python3"
  },
  "language_info": {
   "codemirror_mode": {
    "name": "ipython",
    "version": 3
   },
   "file_extension": ".py",
   "mimetype": "text/x-python",
   "name": "python",
   "nbconvert_exporter": "python",
   "pygments_lexer": "ipython3",
   "version": "3.7.6"
  }
 },
 "nbformat": 4,
 "nbformat_minor": 4
}
