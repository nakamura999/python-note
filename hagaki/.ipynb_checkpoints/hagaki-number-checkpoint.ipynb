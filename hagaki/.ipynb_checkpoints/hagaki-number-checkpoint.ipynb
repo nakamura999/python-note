{
 "cells": [
  {
   "cell_type": "markdown",
   "metadata": {},
   "source": [
    "### ハガキの数字画像を判定"
   ]
  },
  {
   "cell_type": "code",
   "execution_count": 5,
   "metadata": {},
   "outputs": [],
   "source": [
    "from hagaki import *\n",
    "import matplotlib.pyplot as plt\n",
    "\n",
    "import joblib\n",
    "\n",
    "# 学習済手書きデータを読み込み\n",
    "clf = joblib.load(\"digits.pkl\")\n",
    "\n",
    "# 画像から領域を読み込む\n",
    "cnts, img = detect_zipno(\"hagaki.png\")\n",
    "\n",
    "# 読み込んだデータをプロセット\n",
    "for i, pt in enumerate(cnts):\n",
    "    x, y, w, h = pt\n",
    "    # 枠線の輪郭文だけ小さくする\n",
    "    x += 8\n",
    "    y += 8\n",
    "    w -= 16\n",
    "    h -= 16\n",
    "    # 画像データを取り出す\n",
    "    im2 = img[y:y+h, x:x+w]\n",
    "    # データを学習済データに合わせる\n",
    "    im2gray = cv2.cvtColor(im2, cv2.COLOR_BGR2GRAY)\n",
    "    im2gray = cv2.resize(im2gray, (8, 8))\n",
    "    im2gray = 15 - im2gray // 16  # 白黒反転\n",
    "    im2gray = im2gray.reshape((-1, 64)) # 一次元に反転\n",
    "    # データを予測\n",
    "    res = clf.predict(im2gray)\n",
    "    # 画面に出力\n",
    "    plt.subplot(1, 7, i + 1)\n",
    "    plt.imshow(im2)\n",
    "    plt.axis(\"off\")\n",
    "    plt.title(res)\n",
    "    \n",
    "plt.show()"
   ]
  },
  {
   "cell_type": "code",
   "execution_count": null,
   "metadata": {},
   "outputs": [],
   "source": []
  }
 ],
 "metadata": {
  "kernelspec": {
   "display_name": "Python 3",
   "language": "python",
   "name": "python3"
  },
  "language_info": {
   "codemirror_mode": {
    "name": "ipython",
    "version": 3
   },
   "file_extension": ".py",
   "mimetype": "text/x-python",
   "name": "python",
   "nbconvert_exporter": "python",
   "pygments_lexer": "ipython3",
   "version": "3.7.6"
  }
 },
 "nbformat": 4,
 "nbformat_minor": 4
}
